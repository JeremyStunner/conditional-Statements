{
 "cells": [
  {
   "cell_type": "code",
   "execution_count": 1,
   "id": "dad3b427",
   "metadata": {},
   "outputs": [],
   "source": [
    "teslim = 92\n",
    "joy = 82\n",
    "esther = 51\n",
    "bashir = 60\n",
    "peter = 42\n",
    "bola = 38\n",
    "abu = 20\n",
    "rabiu = 77\n",
    "gift = 67\n",
    "colins = 13 "
   ]
  },
  {
   "cell_type": "code",
   "execution_count": 3,
   "id": "02331a1d",
   "metadata": {},
   "outputs": [
    {
     "name": "stdout",
     "output_type": "stream",
     "text": [
      "Enter student name rabiu\n",
      "Enter student score 77\n",
      "A \n"
     ]
    }
   ],
   "source": [
    "name = input(\"Enter student name \")\n",
    "Grade = input(\"Enter student score \")\n",
    "score = int(Grade)\n",
    "if score >= 70 and score <= 100:\n",
    "    print(\"A \")\n",
    "elif score >= 60 and score <= 69:\n",
    "    print(\"B \")\n",
    "elif score >= 50 and score <= 59:\n",
    "    print(\"C \")\n",
    "elif score >= 40 and score <= 49:\n",
    "    print(\"D \")\n",
    "else:\n",
    "    print(\"E \")"
   ]
  },
  {
   "cell_type": "code",
   "execution_count": 4,
   "id": "2e724e1a",
   "metadata": {},
   "outputs": [
    {
     "name": "stdout",
     "output_type": "stream",
     "text": [
      "True\n"
     ]
    }
   ],
   "source": [
    "a = 56\n",
    "b = 52\n",
    "if a>b:\n",
    "    print(True)\n",
    "elif a==b:\n",
    "    print('equal')\n",
    "else:\n",
    "    print(False)"
   ]
  },
  {
   "cell_type": "code",
   "execution_count": 5,
   "id": "3b6afb86",
   "metadata": {},
   "outputs": [
    {
     "name": "stdout",
     "output_type": "stream",
     "text": [
      "not valid\n"
     ]
    }
   ],
   "source": [
    "a= 50\n",
    "b= 51\n",
    "c = 52\n",
    "if a<b and c<b:\n",
    "    print('correct')\n",
    "elif b>a and a>c:\n",
    "    print('incorrect')\n",
    "else:\n",
    "    print('not valid')"
   ]
  },
  {
   "cell_type": "code",
   "execution_count": 6,
   "id": "311e8ac6",
   "metadata": {},
   "outputs": [
    {
     "name": "stdout",
     "output_type": "stream",
     "text": [
      "above 10\n",
      "less than 20\n"
     ]
    }
   ],
   "source": [
    "# Nested if statements\n",
    "x = 19\n",
    "if x>10:\n",
    "    print('above 10')\n",
    "    if x > 20:\n",
    "        print('above 20')\n",
    "    else:\n",
    "        print('less than 20')"
   ]
  },
  {
   "cell_type": "code",
   "execution_count": 7,
   "id": "ff6d3693",
   "metadata": {},
   "outputs": [
    {
     "name": "stdout",
     "output_type": "stream",
     "text": [
      "Enter balance 62\n",
      "play safe! \n"
     ]
    }
   ],
   "source": [
    "stuff = input('Enter balance ')\n",
    "amount = int(stuff)\n",
    "if amount >= 80 and amount <= 100:\n",
    "    print(\"go and ball! \")\n",
    "elif amount >= 60 and amount <= 80:\n",
    "    print(\"play safe! \")\n",
    "elif amount >= 40 and amount<= 59:\n",
    "    print(\"stay at home! \")\n",
    "else:\n",
    "    print(\"Hustle Ooo!!! \")"
   ]
  },
  {
   "cell_type": "code",
   "execution_count": null,
   "id": "9cd19440",
   "metadata": {},
   "outputs": [],
   "source": []
  }
 ],
 "metadata": {
  "kernelspec": {
   "display_name": "Python 3",
   "language": "python",
   "name": "python3"
  },
  "language_info": {
   "codemirror_mode": {
    "name": "ipython",
    "version": 3
   },
   "file_extension": ".py",
   "mimetype": "text/x-python",
   "name": "python",
   "nbconvert_exporter": "python",
   "pygments_lexer": "ipython3",
   "version": "3.8.8"
  }
 },
 "nbformat": 4,
 "nbformat_minor": 5
}
